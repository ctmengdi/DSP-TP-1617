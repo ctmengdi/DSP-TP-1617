{
 "cells": [
  {
   "cell_type": "markdown",
   "metadata": {},
   "source": [
    "# Digital Signal Processing\n",
    "## Convolution and Correlation\n",
    "\n",
    "### MsCV - ViBOT - MAIA"
   ]
  },
  {
   "cell_type": "code",
   "execution_count": 3,
   "metadata": {
    "collapsed": false
   },
   "outputs": [
    {
     "name": "stdout",
     "output_type": "stream",
     "text": [
      "Pretty printing has been turned OFF\n"
     ]
    }
   ],
   "source": [
    "%matplotlib inline\n",
    "%pprint off\n",
    "\n",
    "# To make some nice plot\n",
    "import matplotlib.pyplot as plt\n",
    "# To play with arrays\n",
    "import numpy as np\n",
    "from skimage import io\n",
    "from skimage import img_as_float\n",
    "from matplotlib import cm"
   ]
  },
  {
   "cell_type": "markdown",
   "metadata": {
    "collapsed": true
   },
   "source": [
    "## Exercise 1- 1D Convolution\n",
    "\n",
    "**1.1** Defining a signal $x$ and an impulse response $h$ as parameters, write a program `conv_fn` to compute the convolution product $y=h*x$. Do not use the python or matlab function and just consider zero padding to solve the border problem.\n",
    "\n",
    "**1.2** Test your function, while using the following signal ($x[n] = \\{\\underline{1},2,3,4\\}$) and following filters, ($\\delta[k]$, $H[k]$, $e^{k}$, and $h = \\{-1, 1\\}$), respectively.\n",
    "\n",
    "**1.3** Consider the previous input signal, write it's extended version while considering `symmetry`, `periodic` and `constant values` padding and $h = H[k-5]$\n",
    "\n"
   ]
  },
  {
   "cell_type": "code",
   "execution_count": 21,
   "metadata": {
    "collapsed": false
   },
   "outputs": [],
   "source": [
    "def conv_fn (x, h):\n",
    "    total_len = len(x) + 2*len(h)\n",
    "    pad = np.zeros(total_len)\n",
    "    pad[0:len(x)] = x[0:len(x)]\n",
    "    y = np.zeros((total_len,))\n",
    "    \n",
    "    for i in range(0,len(pad)):\n",
    "        for j in range (0, len(h)):\n",
    "            y[i] += pad[i-j] * h[j]\n",
    "    return y\n",
    "        \n"
   ]
  },
  {
   "cell_type": "code",
   "execution_count": 23,
   "metadata": {
    "collapsed": false
   },
   "outputs": [
    {
     "name": "stdout",
     "output_type": "stream",
     "text": [
      "my answer: (dirac filtering) \n",
      "[ 1.  2.  3.  4.  0.  0.  0.  0.  0.  0.  0.  0.  0.  0.]\n",
      "solution: (dirac filtering) \n",
      "[ 1.  2.  3.  4.  0.  0.  0.  0.]\n",
      "my answer: (step filtering) \n",
      "[  1.   3.   6.  10.  10.   9.   7.   4.   0.   0.   0.   0.   0.   0.]\n",
      "solution: (step filtering) \n",
      "[  1.   3.   6.  10.  10.   9.   7.   4.]\n",
      "my answer: (exp filtering) \n",
      "[   1.            4.718        15.823524     47.00833823  127.76866331\n",
      "  198.9389884   244.04369348  218.3020434     0.            0.            0.\n",
      "    0.            0.            0.        ]\n",
      "solution: (exp filtering) \n",
      "[   1.            4.718        15.823524     47.00833823  127.76866331\n",
      "  198.9389884   244.04369348  218.3020434 ]\n"
     ]
    }
   ],
   "source": [
    "\n",
    "def dirac(n=0, N=20):\n",
    "    s = np.zeros((N,))\n",
    "    s[n] = 1\n",
    "    return s\n",
    "\n",
    "def step (n=0, N=20):\n",
    "    s = np.zeros((N,))\n",
    "    for idx in np.arange(n, N):\n",
    "        s[idx] = 1\n",
    "    return s\n",
    "\n",
    "def exp (n=0, N=20):\n",
    "    s = np.zeros((N,))\n",
    "    e = 2.718\n",
    "    for incr, idx in enumerate (np.arange(n, N)):\n",
    "        s[idx] = e ** incr\n",
    "    return s\n",
    "\n",
    "\n",
    "x = np.array([1, 2, 3, 4])\n",
    "h1 = dirac(0,5)\n",
    "h2 = step(0,5)\n",
    "h3 = exp(0,5)\n",
    "print 'my answer: (dirac filtering) '\n",
    "print conv_fn(x, h1)\n",
    "print 'solution: (dirac filtering) '\n",
    "print np.convolve(x,h1)\n",
    "print 'my answer: (step filtering) '\n",
    "print conv_fn(x, h2)\n",
    "print 'solution: (step filtering) '\n",
    "print np.convolve(x,h2)\n",
    "print 'my answer: (exp filtering) '\n",
    "print conv_fn(x, h3)\n",
    "print 'solution: (exp filtering) '\n",
    "print np.convolve(x,h3)"
   ]
  },
  {
   "cell_type": "markdown",
   "metadata": {
    "collapsed": false
   },
   "source": [
    "## Exercise 2- 2D Convolution\n",
    "\n",
    "**2.1** Define a 2D convolution function (Only consider zero-padding the image)\n",
    "\n",
    "**2.2** Using your function, smooth the `lena` image with the following Gaussian kernel:\n",
    "$$ K = \\frac{1.}{256}\\begin{bmatrix} 1 & 4 & 6 & 4 & 1 \\\\ 4 & 16 & 24 & 16 & 4 \\\\ 6 & 24 & 36 & 24 & 6 \\\\ 4 & 16 & 24 & 16 & 4 \\\\ 1 & 4 & 6 & 4 & 1 \\end{bmatrix}$$\n",
    "\n",
    "**2.3** Apply sobel filtering using convolution\n"
   ]
  },
  {
   "cell_type": "code",
   "execution_count": 27,
   "metadata": {
    "collapsed": false
   },
   "outputs": [
    {
     "ename": "SyntaxError",
     "evalue": "invalid syntax (<ipython-input-27-2a8bd4a7a271>, line 4)",
     "output_type": "error",
     "traceback": [
      "\u001b[1;36m  File \u001b[1;32m\"<ipython-input-27-2a8bd4a7a271>\"\u001b[1;36m, line \u001b[1;32m4\u001b[0m\n\u001b[1;33m    x = np.array([1,2,3,4];\u001b[0m\n\u001b[1;37m                          ^\u001b[0m\n\u001b[1;31mSyntaxError\u001b[0m\u001b[1;31m:\u001b[0m invalid syntax\n"
     ]
    }
   ],
   "source": [
    "#def conv_2D (x, h):\n",
    " #   total_array = size(x)+2*size(h)\n",
    "\n",
    "\n",
    "    \n"
   ]
  },
  {
   "cell_type": "code",
   "execution_count": 12,
   "metadata": {
    "collapsed": false
   },
   "outputs": [],
   "source": []
  },
  {
   "cell_type": "code",
   "execution_count": null,
   "metadata": {
    "collapsed": false
   },
   "outputs": [],
   "source": []
  },
  {
   "cell_type": "markdown",
   "metadata": {
    "collapsed": true
   },
   "source": [
    "## Exercise 3 - Character recognition using cross-correlation\n",
    "\n",
    "**3.1** load `a.png` and `text.png` images and binarized them using [`threshold_otsu`](http://scikit-image.org/docs/dev/api/skimage.filters.html?highlight=filters#skimage.filters.threshold_otsu)\n",
    "\n",
    "**3.2** Use [`signal.correlate2d`](https://docs.scipy.org/doc/scipy-0.18.1/reference/generated/scipy.signal.correlate2d.html#scipy.signal.correlate2d) from `scipy` to correlate your binarized images.\n",
    "**Note, signal correspond to the bright pixels within and image (invert your masks)**\n",
    "\n",
    "**3.3** Find the first 10 characters recognized as `a`."
   ]
  },
  {
   "cell_type": "code",
   "execution_count": null,
   "metadata": {
    "collapsed": false
   },
   "outputs": [],
   "source": []
  },
  {
   "cell_type": "code",
   "execution_count": 21,
   "metadata": {
    "collapsed": false
   },
   "outputs": [],
   "source": []
  },
  {
   "cell_type": "code",
   "execution_count": null,
   "metadata": {
    "collapsed": false
   },
   "outputs": [],
   "source": []
  }
 ],
 "metadata": {
  "anaconda-cloud": {},
  "kernelspec": {
   "display_name": "Python 2",
   "language": "python",
   "name": "python2"
  },
  "language_info": {
   "codemirror_mode": {
    "name": "ipython",
    "version": 2
   },
   "file_extension": ".py",
   "mimetype": "text/x-python",
   "name": "python",
   "nbconvert_exporter": "python",
   "pygments_lexer": "ipython2",
   "version": "2.7.11"
  }
 },
 "nbformat": 4,
 "nbformat_minor": 1
}
